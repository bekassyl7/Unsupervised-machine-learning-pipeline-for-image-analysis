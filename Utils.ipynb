{
  "nbformat": 4,
  "nbformat_minor": 0,
  "metadata": {
    "colab": {
      "name": "Utils.ipynb",
      "provenance": [],
      "collapsed_sections": []
    },
    "kernelspec": {
      "name": "python3",
      "display_name": "Python 3"
    },
    "language_info": {
      "name": "python"
    }
  },
  "cells": [
    {
      "cell_type": "code",
      "execution_count": null,
      "metadata": {
        "id": "_lRrEVWuuogG"
      },
      "outputs": [],
      "source": [
        "#    The routine was developed by Robert Woodward (https://github.com/riwoodward) and it can be found at: \n",
        "#    https://github.com/scipy/scipy-cookbook/blob/master/ipython/Matplotlib_ColormapTransformations.ipynb\n",
        "\n",
        "import matplotlib\n",
        "import numpy as np\n",
        "\n",
        "\n",
        "\n",
        "def cmap_map(function, cmap):\n",
        "    \"\"\" Applies function (which should operate on vectors of shape 3: [r, g, b]), on colormap cmap.\n",
        "    This routine will break any discontinuous points in a colormap.\n",
        "    \"\"\"\n",
        "    \n",
        "    cdict = cmap._segmentdata\n",
        "    step_dict = {}\n",
        "    # Firt get the list of points where the segments start or end\n",
        "    for key in ('red', 'green', 'blue'):\n",
        "        step_dict[key] = list(map(lambda x: x[0], cdict[key]))\n",
        "    step_list = sum(step_dict.values(), [])\n",
        "    step_list = np.array(list(set(step_list)))\n",
        "    # Then compute the LUT, and apply the function to the LUT\n",
        "    reduced_cmap = lambda step : np.array(cmap(step)[0:3])\n",
        "    old_LUT = np.array(list(map(reduced_cmap, step_list)))\n",
        "    new_LUT = np.array(list(map(function, old_LUT)))\n",
        "    # Now try to make a minimal segment definition of the new LUT\n",
        "    cdict = {}\n",
        "    for i, key in enumerate(['red','green','blue']):\n",
        "        this_cdict = {}\n",
        "        for j, step in enumerate(step_list):\n",
        "            if step in step_dict[key]:\n",
        "                this_cdict[step] = new_LUT[j, i]\n",
        "            elif new_LUT[j,i] != old_LUT[j, i]:\n",
        "                this_cdict[step] = new_LUT[j, i]\n",
        "        colorvector = list(map(lambda x: x + (x[1], ), this_cdict.items()))\n",
        "        colorvector.sort()\n",
        "        cdict[key] = colorvector\n",
        "\n",
        "    return matplotlib.colors.LinearSegmentedColormap('colormap',cdict,1024)\n"
      ]
    }
  ]
}